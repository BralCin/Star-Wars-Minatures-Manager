{
 "cells": [
  {
   "cell_type": "code",
   "execution_count": 1,
   "id": "4c4af5ed-0cf0-47a7-8a3b-7fa7e980d8ff",
   "metadata": {},
   "outputs": [],
   "source": [
    "import os.path\n",
    "import sqlite3\n",
    "from tkinter import *\n",
    "from tkinter import ttk"
   ]
  },
  {
   "cell_type": "code",
   "execution_count": 2,
   "id": "28e45f06-2265-451b-98ba-faa62cf8a77b",
   "metadata": {},
   "outputs": [
    {
     "data": {
      "text/plain": [
       "''"
      ]
     },
     "execution_count": 2,
     "metadata": {},
     "output_type": "execute_result"
    }
   ],
   "source": [
    "root = Tk()\n",
    "root.title('Star Wars Miniatures Manager')"
   ]
  },
  {
   "cell_type": "code",
   "execution_count": 5,
   "id": "c4efbe7d-0e68-4dc8-9786-e99488e6757a",
   "metadata": {},
   "outputs": [],
   "source": [
    "# Connect to database\n",
    "with sqlite3.connect('minis-db') as db:\n",
    "    cursor = db.cursor()"
   ]
  },
  {
   "cell_type": "code",
   "execution_count": 6,
   "id": "d8b51c0e-7b37-4631-abf7-32e0eab06798",
   "metadata": {},
   "outputs": [
    {
     "ename": "OperationalError",
     "evalue": "no such table: minis",
     "output_type": "error",
     "traceback": [
      "\u001b[0;31m---------------------------------------------------------------------------\u001b[0m",
      "\u001b[0;31mOperationalError\u001b[0m                          Traceback (most recent call last)",
      "\u001b[0;32m/tmp/ipykernel_17159/165518500.py\u001b[0m in \u001b[0;36m<module>\u001b[0;34m\u001b[0m\n\u001b[0;32m----> 1\u001b[0;31m \u001b[0mcursor\u001b[0m\u001b[0;34m.\u001b[0m\u001b[0mexecute\u001b[0m\u001b[0;34m(\u001b[0m\u001b[0;34m\"SELECT name FROM minis WHERE id <= 60\"\u001b[0m\u001b[0;34m)\u001b[0m\u001b[0;34m\u001b[0m\u001b[0;34m\u001b[0m\u001b[0m\n\u001b[0m",
      "\u001b[0;31mOperationalError\u001b[0m: no such table: minis"
     ]
    }
   ],
   "source": [
    "cursor.execute(\"SELECT name FROM minis WHERE id <= 60\")"
   ]
  },
  {
   "cell_type": "code",
   "execution_count": null,
   "id": "2277c883-989c-4286-bf0d-f1d33b1db4a9",
   "metadata": {},
   "outputs": [],
   "source": [
    "print(obj)"
   ]
  },
  {
   "cell_type": "code",
   "execution_count": null,
   "id": "6f79036a-889d-44f9-a1e7-6e11a6b9890c",
   "metadata": {},
   "outputs": [],
   "source": [
    "# Commit changes\n",
    "db.commit()\n",
    "\n",
    "# Close connection\n",
    "db.close()\n",
    "\n",
    "# Run program\n",
    "root.mainloop()"
   ]
  }
 ],
 "metadata": {
  "kernelspec": {
   "display_name": "Python 3 (ipykernel)",
   "language": "python",
   "name": "python3"
  },
  "language_info": {
   "codemirror_mode": {
    "name": "ipython",
    "version": 3
   },
   "file_extension": ".py",
   "mimetype": "text/x-python",
   "name": "python",
   "nbconvert_exporter": "python",
   "pygments_lexer": "ipython3",
   "version": "3.9.7"
  }
 },
 "nbformat": 4,
 "nbformat_minor": 5
}
