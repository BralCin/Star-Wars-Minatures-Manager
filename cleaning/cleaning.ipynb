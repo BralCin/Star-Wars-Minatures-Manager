{
 "cells": [
  {
   "cell_type": "code",
   "execution_count": 2,
   "id": "f1079e30-41ac-4586-9729-11e3ee3adde6",
   "metadata": {},
   "outputs": [],
   "source": [
    "import pandas as pd"
   ]
  },
  {
   "cell_type": "code",
   "execution_count": 7,
   "id": "acb658b3-deb4-4c16-8992-0eeb7cb37728",
   "metadata": {},
   "outputs": [],
   "source": [
    "CharFP = pd.read_csv('CharFP.csv')\n",
    "\n",
    "CharSA = pd.read_csv('CharSA.csv')\n",
    "\n",
    "CommanderEffects = pd.read_csv('CommanderEffects.csv')\n",
    "\n",
    "Factions = pd.read_csv('Factions.csv')\n",
    "\n",
    "ForcePowers = pd.read_csv('ForcePowers.csv')\n",
    "\n",
    "Minis = pd.read_csv('Minis.csv')\n",
    "\n",
    "Sets = pd.read_csv('Sets.csv')\n",
    "\n",
    "Size = pd.read_csv('Size.csv')\n",
    "\n",
    "SpecialAbilities = pd.read_csv('SpecialAbilities.csv')\n",
    "\n",
    "Unique = pd.read_csv('Unique.csv')"
   ]
  },
  {
   "cell_type": "code",
   "execution_count": null,
   "id": "11274d96-abf2-4ead-adab-6e4cc1001047",
   "metadata": {},
   "outputs": [],
   "source": []
  }
 ],
 "metadata": {
  "kernelspec": {
   "display_name": "Python 3 (ipykernel)",
   "language": "python",
   "name": "python3"
  },
  "language_info": {
   "codemirror_mode": {
    "name": "ipython",
    "version": 3
   },
   "file_extension": ".py",
   "mimetype": "text/x-python",
   "name": "python",
   "nbconvert_exporter": "python",
   "pygments_lexer": "ipython3",
   "version": "3.9.7"
  }
 },
 "nbformat": 4,
 "nbformat_minor": 5
}
